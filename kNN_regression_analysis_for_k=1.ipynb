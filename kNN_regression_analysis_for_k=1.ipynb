{
 "cells": [
  {
   "cell_type": "code",
   "execution_count": 1,
   "id": "09b8b961-9aad-4e79-89a8-f4784c9284d5",
   "metadata": {},
   "outputs": [],
   "source": [
    "# Import required libraries\n",
    "import numpy as np\n",
    "import pandas as pd\n",
    "import matplotlib.pyplot as plt\n",
    "from sklearn.neighbors import KNeighborsRegressor\n",
    "from sklearn.model_selection import train_test_split\n",
    "%matplotlib inline"
   ]
  },
  {
   "cell_type": "code",
   "execution_count": 2,
   "id": "407e205f-9bee-4360-bc6f-86c2c345e949",
   "metadata": {},
   "outputs": [],
   "source": [
    "# Read the data from the file \"Advertising.csv\"\n",
    "filename = 'advertising.csv'\n",
    "df_adv = pd.read_csv(filename)"
   ]
  },
  {
   "cell_type": "code",
   "execution_count": 8,
   "id": "ca26aa51-741d-42bc-a555-4e8f31f2764a",
   "metadata": {},
   "outputs": [
    {
     "data": {
      "text/html": [
       "<div>\n",
       "<style scoped>\n",
       "    .dataframe tbody tr th:only-of-type {\n",
       "        vertical-align: middle;\n",
       "    }\n",
       "\n",
       "    .dataframe tbody tr th {\n",
       "        vertical-align: top;\n",
       "    }\n",
       "\n",
       "    .dataframe thead th {\n",
       "        text-align: right;\n",
       "    }\n",
       "</style>\n",
       "<table border=\"1\" class=\"dataframe\">\n",
       "  <thead>\n",
       "    <tr style=\"text-align: right;\">\n",
       "      <th></th>\n",
       "      <th>Unnamed: 0</th>\n",
       "      <th>TV</th>\n",
       "      <th>radio</th>\n",
       "      <th>newspaper</th>\n",
       "      <th>sales</th>\n",
       "    </tr>\n",
       "  </thead>\n",
       "  <tbody>\n",
       "    <tr>\n",
       "      <th>0</th>\n",
       "      <td>1</td>\n",
       "      <td>230.1</td>\n",
       "      <td>37.8</td>\n",
       "      <td>69.2</td>\n",
       "      <td>22.1</td>\n",
       "    </tr>\n",
       "    <tr>\n",
       "      <th>1</th>\n",
       "      <td>2</td>\n",
       "      <td>44.5</td>\n",
       "      <td>39.3</td>\n",
       "      <td>45.1</td>\n",
       "      <td>10.4</td>\n",
       "    </tr>\n",
       "    <tr>\n",
       "      <th>2</th>\n",
       "      <td>3</td>\n",
       "      <td>17.2</td>\n",
       "      <td>45.9</td>\n",
       "      <td>69.3</td>\n",
       "      <td>9.3</td>\n",
       "    </tr>\n",
       "    <tr>\n",
       "      <th>3</th>\n",
       "      <td>4</td>\n",
       "      <td>151.5</td>\n",
       "      <td>41.3</td>\n",
       "      <td>58.5</td>\n",
       "      <td>18.5</td>\n",
       "    </tr>\n",
       "    <tr>\n",
       "      <th>4</th>\n",
       "      <td>5</td>\n",
       "      <td>180.8</td>\n",
       "      <td>10.8</td>\n",
       "      <td>58.4</td>\n",
       "      <td>12.9</td>\n",
       "    </tr>\n",
       "    <tr>\n",
       "      <th>5</th>\n",
       "      <td>6</td>\n",
       "      <td>8.7</td>\n",
       "      <td>48.9</td>\n",
       "      <td>75.0</td>\n",
       "      <td>7.2</td>\n",
       "    </tr>\n",
       "    <tr>\n",
       "      <th>6</th>\n",
       "      <td>7</td>\n",
       "      <td>57.5</td>\n",
       "      <td>32.8</td>\n",
       "      <td>23.5</td>\n",
       "      <td>11.8</td>\n",
       "    </tr>\n",
       "    <tr>\n",
       "      <th>7</th>\n",
       "      <td>8</td>\n",
       "      <td>120.2</td>\n",
       "      <td>19.6</td>\n",
       "      <td>11.6</td>\n",
       "      <td>13.2</td>\n",
       "    </tr>\n",
       "    <tr>\n",
       "      <th>8</th>\n",
       "      <td>9</td>\n",
       "      <td>8.6</td>\n",
       "      <td>2.1</td>\n",
       "      <td>1.0</td>\n",
       "      <td>4.8</td>\n",
       "    </tr>\n",
       "    <tr>\n",
       "      <th>9</th>\n",
       "      <td>10</td>\n",
       "      <td>199.8</td>\n",
       "      <td>2.6</td>\n",
       "      <td>21.2</td>\n",
       "      <td>10.6</td>\n",
       "    </tr>\n",
       "  </tbody>\n",
       "</table>\n",
       "</div>"
      ],
      "text/plain": [
       "   Unnamed: 0     TV  radio  newspaper  sales\n",
       "0           1  230.1   37.8       69.2   22.1\n",
       "1           2   44.5   39.3       45.1   10.4\n",
       "2           3   17.2   45.9       69.3    9.3\n",
       "3           4  151.5   41.3       58.5   18.5\n",
       "4           5  180.8   10.8       58.4   12.9\n",
       "5           6    8.7   48.9       75.0    7.2\n",
       "6           7   57.5   32.8       23.5   11.8\n",
       "7           8  120.2   19.6       11.6   13.2\n",
       "8           9    8.6    2.1        1.0    4.8\n",
       "9          10  199.8    2.6       21.2   10.6"
      ]
     },
     "execution_count": 8,
     "metadata": {},
     "output_type": "execute_result"
    }
   ],
   "source": [
    "# Take a quick look of the dataset\n",
    "df_adv.head(10)"
   ]
  },
  {
   "cell_type": "code",
   "execution_count": 12,
   "id": "924bd2f5-59ba-4af6-9740-373729d52c4c",
   "metadata": {},
   "outputs": [],
   "source": [
    "# kNN by hand for k = 1\n",
    "\n",
    "# Get a subset of the data i.e. rows 5 to 13\n",
    "# Use the TV column as the predictor\n",
    "x_true = df_adv.TV.iloc[5:13]\n",
    "\n",
    "# Use the Sales column as the response\n",
    "y_true = df_adv.sales.iloc[5:13]\n",
    "\n",
    "# Sort the data to get indices ordered from lowest to highest TV values\n",
    "idx = np.argsort(x_true).values \n",
    "\n",
    "# Get the predictor data in the order given by idx above\n",
    "x_true  = x_true.iloc[idx].values\n",
    "\n",
    "# Get the response data in the order given by idx above\n",
    "y_true  = y_true.iloc[idx].values"
   ]
  },
  {
   "cell_type": "code",
   "execution_count": 14,
   "id": "dd321b4b-52b6-42f7-8e12-b129ecd0dc4d",
   "metadata": {},
   "outputs": [],
   "source": [
    "# Define a function that finds the index of the nearest neighbor and returns the value of the nearest neighbor.  \n",
    "# Note that this is just for k = 1 where the distance function is simply the absolute value.\n",
    "\n",
    "def find_nearest(array,value):\n",
    "    \n",
    "    # Hint: To find idx, use .idxmin() function on the series\n",
    "    idx = pd.Series(np.abs(array-value)).idxmin()\n",
    "\n",
    "    # Return the nearest neighbor index and value\n",
    "    return idx, array[idx]"
   ]
  },
  {
   "cell_type": "code",
   "execution_count": 16,
   "id": "036f848e-fbba-4b55-a723-90fecf9c1182",
   "metadata": {},
   "outputs": [],
   "source": [
    "# Create some synthetic x-values (might not be in the actual dataset)\n",
    "x = np.linspace(np.min(x_true), np.max(x_true))\n",
    "\n",
    "# Initialize the y-values for the length of the synthetic x-values to zero\n",
    "y = np.zeros((len(x)))"
   ]
  },
  {
   "cell_type": "code",
   "execution_count": 18,
   "id": "4d897830-8987-4bef-a422-588bda92ef76",
   "metadata": {},
   "outputs": [],
   "source": [
    "# Apply the KNN algorithm to predict the y-value for the given x value\n",
    "for i, xi in enumerate(x):\n",
    "\n",
    "    # Get the Sales values closest to the given x value\n",
    "    y[i] = y_true[find_nearest(x_true, xi )[0]]"
   ]
  },
  {
   "cell_type": "code",
   "execution_count": 20,
   "id": "133d55a9-681b-4f5d-aff8-313747f22525",
   "metadata": {},
   "outputs": [
    {
     "data": {
      "text/plain": [
       "Text(0, 0.5, 'Sales in $1000')"
      ]
     },
     "execution_count": 20,
     "metadata": {},
     "output_type": "execute_result"
    },
    {
     "data": {
      "image/png": "[encoded data removed]",
      "text/plain": [
       "<Figure size 640x480 with 1 Axes>"
      ]
     },
     "metadata": {},
     "output_type": "display_data"
    }
   ],
   "source": [
    "# PLOTTING THE DATA\n",
    "\n",
    "# Plot the synthetic data along with the predictions    \n",
    "plt.plot(x, y, '-.')\n",
    "\n",
    "# Plot the original data using black x's.\n",
    "plt.plot(x_true, y_true, 'kx')\n",
    "\n",
    "# Set the title and axis labels\n",
    "plt.title('TV vs Sales')\n",
    "plt.xlabel('TV budget in $1000')\n",
    "plt.ylabel('Sales in $1000')"
   ]
  },
  {
   "cell_type": "code",
   "execution_count": null,
   "id": "1fcbfacf-4a68-4d35-bfb2-fde2d0351cf1",
   "metadata": {},
   "outputs": [],
   "source": []
  }
 ],
 "metadata": {
  "kernelspec": {
   "display_name": "Python 3 (ipykernel)",
   "language": "python",
   "name": "python3"
  },
  "language_info": {
   "codemirror_mode": {
    "name": "ipython",
    "version": 3
   },
   "file_extension": ".py",
   "mimetype": "text/x-python",
   "name": "python",
   "nbconvert_exporter": "python",
   "pygments_lexer": "ipython3",
   "version": "3.12.4"
  }
 },
 "nbformat": 4,
 "nbformat_minor": 5
}
